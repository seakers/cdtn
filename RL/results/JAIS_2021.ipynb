{
 "cells": [
  {
   "cell_type": "code",
   "execution_count": 8,
   "metadata": {},
   "outputs": [],
   "source": [
    "import numpy as np\n",
    "import pandas as pd\n",
    "import matplotlib.pyplot as plt\n",
    "import csv\n",
    "import pickle\n",
    "from mpl_toolkits.mplot3d import Axes3D\n",
    "from IPython.display import display\n",
    "from ipywidgets import interactive"
   ]
  },
  {
   "cell_type": "code",
   "execution_count": 2,
   "metadata": {},
   "outputs": [],
   "source": [
    "def read_pkl(filename):\n",
    "    with open(filename, 'rb') as handle:\n",
    "        data = pickle.load(handle)\n",
    "    return data"
   ]
  },
  {
   "cell_type": "code",
   "execution_count": 3,
   "metadata": {},
   "outputs": [],
   "source": [
    "directory = './training_JAIS_Lunar/'\n",
    "\n",
    "data_reference = read_pkl(directory+'evaluation_reference_policy.pkl')\n",
    "\n",
    "data_random = read_pkl(directory+'evaluation_random_policy.pkl')\n",
    "\n",
    "data_ruled = read_pkl(directory+'evaluation_ruled_based_policy.pkl')\n",
    "\n",
    "data_cont_U = read_pkl(directory+'evaluation_0.001_final_model.pkl')"
   ]
  },
  {
   "cell_type": "code",
   "execution_count": 10,
   "metadata": {},
   "outputs": [],
   "source": [
    "colors = ['black', 'steelblue',  \n",
    "          'red', 'red','red', 'red', 'red','red',\n",
    "          'lime', 'lime', 'lime', 'lime', 'lime', 'lime']\n",
    "colors2 = ['black', 'steelblue', 'goldenrod', \n",
    "          'forestgreen', 'deeppink','red',\n",
    "          'lime', 'magenta','saddlebrown', 'olivedrab','salmon']"
   ]
  },
  {
   "cell_type": "code",
   "execution_count": 4,
   "metadata": {},
   "outputs": [],
   "source": [
    "data = [data_random, data_ruled, data_cont_U]\n",
    "\n",
    "def plot_all_boxplots():\n",
    "    fig, axs = plt.subplots(3,1,figsize=(9,10))\n",
    "    axs[0].set_ylabel('Cumulative reward')\n",
    "    axs[1].set_ylabel('Cumulative benefit [bits]')\n",
    "    axs[2].set_ylabel('Cumulative cost [bits]')\n",
    "    axs[1].set_yscale('log')\n",
    "    axs[2].set_yscale('log')\n",
    "\n",
    "    data = [data_reference['reward'], data_random['reward'], data_ruled['reward'], \n",
    "            data_cont_U['reward']]\n",
    "    axs[0].boxplot(data)\n",
    "    axs[0].set_xticklabels(['Reference','Random', 'Rule-based','Deep Q-Learning'])\n",
    "    data = [data_reference['benefit'], data_random['benefit'], data_ruled['benefit'], \n",
    "            data_cont_U['benefit']]\n",
    "    axs[1].boxplot(data)\n",
    "    axs[1].set_xticklabels(['Reference','Random', 'Rule-based','Deep Q-Learning'])\n",
    "    data = [data_reference['cost'], data_random['cost'], data_ruled['cost'], \n",
    "            data_cont_U['cost']]\n",
    "    axs[2].boxplot(data)\n",
    "    axs[2].set_xticklabels(['Reference','Random', 'Rule-based','Deep Q-Learning'])\n",
    "    plt.show()"
   ]
  },
  {
   "cell_type": "code",
   "execution_count": 5,
   "metadata": {},
   "outputs": [
    {
     "data": {
      "image/png": "[encoded data removed]",
      "text/plain": [
       "<Figure size 648x720 with 3 Axes>"
      ]
     },
     "metadata": {
      "needs_background": "light"
     },
     "output_type": "display_data"
    }
   ],
   "source": [
    "plot_all_boxplots()"
   ]
  },
  {
   "cell_type": "code",
   "execution_count": 118,
   "metadata": {},
   "outputs": [],
   "source": [
    "plt.savefig('boxplots_all_2.png', format='png', dpi=300)"
   ]
  },
  {
   "cell_type": "code",
   "execution_count": 6,
   "metadata": {},
   "outputs": [],
   "source": [
    "max_rb = 1\n",
    "def plot_memory_and_rb3_3subplots(info_policy, n_run):\n",
    "    neighbor_nodes = ['Mission26', 'Mission27', 'Mission28', 'Mission29', 'Mission30', 'Mission35',\n",
    "                               'Mission37', 'Mission38', 'Mission39', 'Mission40', 'Mission44']\n",
    "    %matplotlib inline\n",
    "    memory=info_policy.iloc[n_run]['memory']\n",
    "    rb_in=info_policy.iloc[n_run]['rb_in']\n",
    "    rb_in_norm = [x / max_rb for x in rb_in]\n",
    "    rb_out=info_policy.iloc[n_run]['rb_out']\n",
    "    rb_out_norm = [x / max_rb for x in rb_out]\n",
    "    memory_neighbors_dicts=info_policy.iloc[n_run]['memory_neighbors']\n",
    "    time=range(len(memory))\n",
    "    fig, axs = plt.subplots(3,1,figsize=(10,14))\n",
    "    axs[2].spines[\"right\"].set_position((\"axes\", 1.1))\n",
    "    axs[1].plot(time, memory, 'r-', label='memory')\n",
    "    axs[0].plot(time, 11*np.array(rb_in_norm), 'b-', label='11*Rb_in') \n",
    "    axs[0].plot(time, rb_out_norm, 'g-', label='Rb_out') \n",
    "    i=0\n",
    "    for node_id in neighbor_nodes:\n",
    "        memory_node_i = []\n",
    "        for memory_neighbors_dict in memory_neighbors_dicts:\n",
    "            memory_node_i.append(memory_neighbors_dict[node_id])\n",
    "        axs[2].plot(time, memory_node_i, linestyle='dashed', color=colors2[neighbor_nodes.index(node_id)], label='neighbour node i') \n",
    "    axs[2].set_yscale('log')\n",
    "    axs[0].set_yscale('log')\n",
    "    axs[1].set_xlabel('time step')  # Add an x-label to the axes.\n",
    "    axs[1].set_ylabel('Memory utilization')  # Add a y-label to the axes.\n",
    "    axs[0].set_ylabel('bps')  # Add a y-label to the axes.\n",
    "    axs[2].set_ylabel('bits') \n",
    "    axs[1].set_ylim(0, 1) \n",
    "    axs[0].set_ylim(1e9/512, 10e9) \n",
    "    axs[1].legend()  # Add a legend.\n",
    "    axs[0].legend()  # Add a legend.\n",
    "#     axs[2].legend()  # Add a legend."
   ]
  },
  {
   "cell_type": "code",
   "execution_count": 11,
   "metadata": {},
   "outputs": [
    {
     "data": {
      "application/vnd.jupyter.widget-view+json": {
       "model_id": "58093618dc164979a4bc90a511e72fb9",
       "version_major": 2,
       "version_minor": 0
      },
      "text/plain": [
       "interactive(children=(Dropdown(description='run_number', options=(0, 1, 2, 3, 4, 5, 6, 7, 8, 9, 10, 11, 12, 13…"
      ]
     },
     "metadata": {},
     "output_type": "display_data"
    }
   ],
   "source": [
    "columns=[i for i in range(100)]\n",
    "\n",
    "def k(run_number):\n",
    "    print('Episode reward = {}'.format(data_cont_U['reward'][run_number]))\n",
    "    plot_memory_and_rb3_3subplots(data_cont_U, run_number)\n",
    "    \n",
    "interactive_plot = interactive(k, run_number=columns)\n",
    "interactive_plot\n",
    "\n",
    "#Plot in paper is run number 3!"
   ]
  },
  {
   "cell_type": "code",
   "execution_count": null,
   "metadata": {},
   "outputs": [],
   "source": []
  }
 ],
 "metadata": {
  "kernelspec": {
   "display_name": "Python [conda env:conda-dtnsim_baselines] *",
   "language": "python",
   "name": "conda-env-conda-dtnsim_baselines-py"
  },
  "language_info": {
   "codemirror_mode": {
    "name": "ipython",
    "version": 3
   },
   "file_extension": ".py",
   "mimetype": "text/x-python",
   "name": "python",
   "nbconvert_exporter": "python",
   "pygments_lexer": "ipython3",
   "version": "3.7.5"
  }
 },
 "nbformat": 4,
 "nbformat_minor": 4
}

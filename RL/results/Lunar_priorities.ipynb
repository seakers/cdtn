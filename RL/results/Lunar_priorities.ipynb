{
 "cells": [
  {
   "cell_type": "code",
   "execution_count": 1,
   "metadata": {},
   "outputs": [],
   "source": [
    "import numpy as np\n",
    "import pandas as pd\n",
    "import matplotlib.pyplot as plt\n",
    "import csv\n",
    "import pickle\n",
    "from mpl_toolkits.mplot3d import Axes3D\n",
    "from IPython.display import display\n",
    "from ipywidgets import interactive\n",
    "import warnings\n",
    "warnings.filterwarnings('ignore')"
   ]
  },
  {
   "cell_type": "code",
   "execution_count": 2,
   "metadata": {},
   "outputs": [],
   "source": [
    "def read_pkl(filename):\n",
    "    with open(filename, 'rb') as handle:\n",
    "        data = pickle.load(handle)\n",
    "    return data"
   ]
  },
  {
   "cell_type": "code",
   "execution_count": 3,
   "metadata": {},
   "outputs": [],
   "source": [
    "colors = ['black', 'steelblue',  \n",
    "          'red', 'red','red', 'red', 'red','red',\n",
    "          'lime', 'lime', 'lime', 'lime', 'lime', 'lime']\n",
    "colors2 = ['black', 'steelblue', 'goldenrod', \n",
    "          'forestgreen', 'deeppink','red',\n",
    "          'lime', 'magenta','saddlebrown', 'olivedrab','salmon']"
   ]
  },
  {
   "cell_type": "code",
   "execution_count": 4,
   "metadata": {},
   "outputs": [],
   "source": [
    "max_rb = 1\n",
    "\n",
    "def plot_memory_and_rb3_5subplots(info_policy, n_run, flag_derivative=False):\n",
    "    %matplotlib inline\n",
    "    memory=info_policy.iloc[n_run]['memory']\n",
    "    rb_in=info_policy.iloc[n_run]['rb_in']\n",
    "    rb_in_norm = [x / max_rb for x in rb_in]\n",
    "    rb_out=info_policy.iloc[n_run]['rb_out']\n",
    "    rb_out_norm = [x / max_rb for x in rb_out]\n",
    "    memory_neighbors_dicts=info_policy.iloc[n_run]['memory_neighbors']\n",
    "    dropped_low=info_policy.iloc[n_run]['dropped_low_over_time']\n",
    "    dropped_medium=info_policy.iloc[n_run]['dropped_medium_over_time']\n",
    "    dropped_high=info_policy.iloc[n_run]['dropped_high_over_time']\n",
    "    time=range(len(memory))\n",
    "    fig, axs = plt.subplots(5,1,figsize=(10,14))\n",
    "    axs[1].plot(time, memory, 'r-', label='memory')\n",
    "    axs[0].plot(time, 11*np.array(rb_in_norm), 'b-', label='$\\mathregular{Rb_{in}}$') \n",
    "    axs[0].plot(time, rb_out_norm, 'g-', label='$\\mathregular{Rb_{out}}$') \n",
    "#     axs[0].plot(time, 11*np.array(rb_in_norm), 'b-', label='PRX date rate') \n",
    "#     axs[0].plot(time, rb_out_norm, 'g-', label='DTE data rate')\n",
    "    if flag_derivative:\n",
    "        dropped_low_dot = [0]\n",
    "        dropped_medium_dot = [0]\n",
    "        dropped_high_dot = [0]\n",
    "        for i in range(1,len(dropped_low)):\n",
    "            dropped_low_dot.append(dropped_low[i]-dropped_low[i-1])\n",
    "            dropped_medium_dot.append(dropped_medium[i]-dropped_medium[i-1])\n",
    "            dropped_high_dot.append(dropped_high[i]-dropped_high[i-1])\n",
    "        axs[2].plot(time, dropped_low_dot, 'k-')\n",
    "        axs[3].plot(time, dropped_medium_dot, 'k-')\n",
    "        axs[4].plot(time, dropped_high_dot, 'k-')\n",
    "    else:    \n",
    "        axs[2].plot(time, dropped_low, 'k-')\n",
    "        axs[3].plot(time, dropped_medium, 'k-')\n",
    "        axs[4].plot(time, dropped_high, 'k-')\n",
    "\n",
    "    axs[2].set_yscale('log')\n",
    "    axs[3].set_yscale('log')\n",
    "    axs[4].set_yscale('log')\n",
    "    axs[0].set_yscale('log')\n",
    "    axs[4].set_xlabel('time step')  # Add an x-label to the axes.\n",
    "    axs[1].set_ylabel('Memory utilization')  # Add a y-label to the axes.\n",
    "    axs[0].set_ylabel('Data Rate [bps]')  # Add a y-label to the axes.\n",
    "    axs[2].set_ylabel('low priority')\n",
    "    axs[3].set_ylabel('medium priority')\n",
    "    axs[4].set_ylabel('high priority')\n",
    "    axs[1].set_ylim(0, 1) \n",
    "    axs[0].set_ylim(1e9/512, 10e9) \n",
    "#     axs[0].set_title('Mean reward for this policy: {}'.format(str(np.mean(info_policy['reward']))))  \n",
    "    axs[0].set_title('Gateway')  \n",
    "    axs[1].legend()  # Add a legend.\n",
    "    axs[0].legend(loc='lower right')  # Add a legend."
   ]
  },
  {
   "cell_type": "code",
   "execution_count": 5,
   "metadata": {},
   "outputs": [],
   "source": [
    "#----------------------------------------------------------------------------"
   ]
  },
  {
   "cell_type": "code",
   "execution_count": 7,
   "metadata": {},
   "outputs": [],
   "source": [
    "filename43 = './training_Lunar_priorities/hybrid_approach/'\n",
    "filename46 = './training_Lunar_priorities/full_RL_approach/'\n",
    "\n",
    "\n",
    "data8 = read_pkl(filename43+'evaluation_0.001_best_avg_model.pkl') ##\n",
    "\n",
    "data16 = read_pkl(filename46+'evaluation_0.01_best_avg_model.pkl') #\n",
    "data17 = read_pkl(filename46+'evaluation_0.01_best_max_model.pkl')\n",
    "data18 = read_pkl(filename46+'evaluation_0.001_best_avg_model.pkl')\n",
    "data19 = read_pkl(filename46+'evaluation_0.001_best_max_model.pkl')"
   ]
  },
  {
   "cell_type": "code",
   "execution_count": 8,
   "metadata": {},
   "outputs": [],
   "source": [
    "data_to_plot = data8"
   ]
  },
  {
   "cell_type": "code",
   "execution_count": 9,
   "metadata": {
    "scrolled": false
   },
   "outputs": [
    {
     "data": {
      "application/vnd.jupyter.widget-view+json": {
       "model_id": "15af109526404e91b8a13a073a04e461",
       "version_major": 2,
       "version_minor": 0
      },
      "text/plain": [
       "interactive(children=(Dropdown(description='run_number', options=(0, 1, 2, 3, 4, 5, 6, 7, 8, 9, 10, 11, 12, 13…"
      ]
     },
     "metadata": {},
     "output_type": "display_data"
    }
   ],
   "source": [
    "columns=[i for i in range(100)]\n",
    "\n",
    "def k(run_number):\n",
    "    print('Episode reward = {}'.format(data_to_plot['reward'][run_number]))\n",
    "    plot_memory_and_rb3_5subplots(data_to_plot, run_number, True)\n",
    "    \n",
    "interactive_plot = interactive(k, run_number=columns)\n",
    "interactive_plot"
   ]
  },
  {
   "cell_type": "code",
   "execution_count": 10,
   "metadata": {},
   "outputs": [],
   "source": [
    "def plot_boxplot_comparison(data):\n",
    "    fig, axs = plt.subplots(5,1,figsize=(9,15))\n",
    "    \n",
    "    axs[0].set_ylabel('cum benefit [bits]')\n",
    "    axs[1].set_ylabel('cum cost [bits]')\n",
    "    axs[2].set_ylabel('drops low priority [bits]')\n",
    "    axs[3].set_ylabel('drops medium priority [bits]')\n",
    "    axs[4].set_ylabel('drops high priority [bits]')\n",
    "    axs[0].set_yscale('log')\n",
    "    axs[1].set_yscale('log')\n",
    "    axs[2].set_yscale('log')\n",
    "    axs[3].set_yscale('log')\n",
    "    axs[4].set_yscale('log')\n",
    "\n",
    "    data_benefit = [data[0]['benefit'], data[1]['benefit']]\n",
    "    axs[0].boxplot(data_benefit)\n",
    "    axs[0].set_xticklabels(['Hybrid','Full RL'])\n",
    "    data_cost = [data[0]['cost'], data[1]['cost']]\n",
    "    axs[1].boxplot(data_cost)\n",
    "    axs[1].set_xticklabels(['Hybrid','Full RL'])\n",
    "    \n",
    "    data_low_1=[]\n",
    "    data_low_2=[]\n",
    "    for i in range(100):\n",
    "        data_low_1.append(data[0].iloc[i]['dropped_low_over_time'][-1])\n",
    "        data_low_2.append(data[1].iloc[i]['dropped_low_over_time'][-1])\n",
    "    data_low = [data_low_1, data_low_2]\n",
    "    axs[2].boxplot(data_low)\n",
    "    axs[2].set_xticklabels(['Hybrid','Full RL'])\n",
    "    \n",
    "    data_med_1=[]\n",
    "    data_med_2=[]\n",
    "    for i in range(100):\n",
    "        data_med_1.append(data[0].iloc[i]['dropped_medium_over_time'][-1])\n",
    "        data_med_2.append(data[1].iloc[i]['dropped_medium_over_time'][-1])\n",
    "    data_med = [data_med_1, data_med_2]\n",
    "    axs[3].boxplot(data_med)\n",
    "    axs[3].set_xticklabels(['Hybrid','Full RL'])\n",
    "    \n",
    "    data_high_1=[]\n",
    "    data_high_2=[]\n",
    "    for i in range(100):\n",
    "        data_high_1.append(data[0].iloc[i]['dropped_high_over_time'][-1])\n",
    "        data_high_2.append(data[1].iloc[i]['dropped_high_over_time'][-1])\n",
    "    data_high = [data_high_1, data_high_2]\n",
    "    axs[4].boxplot(data_high)\n",
    "    axs[4].set_xticklabels(['Hybrid','Full RL'])\n",
    "    \n",
    "    plt.show()"
   ]
  },
  {
   "cell_type": "code",
   "execution_count": 11,
   "metadata": {},
   "outputs": [
    {
     "data": {
      "image/png": "[encoded data removed]",
      "text/plain": [
       "<Figure size 648x1080 with 5 Axes>"
      ]
     },
     "metadata": {
      "needs_background": "light"
     },
     "output_type": "display_data"
    }
   ],
   "source": [
    "data = [data8, data16]\n",
    "plot_boxplot_comparison(data)"
   ]
  },
  {
   "cell_type": "code",
   "execution_count": null,
   "metadata": {},
   "outputs": [],
   "source": []
  }
 ],
 "metadata": {
  "kernelspec": {
   "display_name": "Python [conda env:conda-dtnsim_baselines] *",
   "language": "python",
   "name": "conda-env-conda-dtnsim_baselines-py"
  },
  "language_info": {
   "codemirror_mode": {
    "name": "ipython",
    "version": 3
   },
   "file_extension": ".py",
   "mimetype": "text/x-python",
   "name": "python",
   "nbconvert_exporter": "python",
   "pygments_lexer": "ipython3",
   "version": "3.7.5"
  }
 },
 "nbformat": 4,
 "nbformat_minor": 4
}
